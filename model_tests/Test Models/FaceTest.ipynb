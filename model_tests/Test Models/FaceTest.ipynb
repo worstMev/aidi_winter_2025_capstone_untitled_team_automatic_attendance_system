{
  "cells": [
    {
      "cell_type": "code",
      "execution_count": 2,
      "metadata": {},
      "outputs": [
        {
          "name": "stdout",
          "output_type": "stream",
          "text": [
            "Note: you may need to restart the kernel to use updated packages.\n"
          ]
        },
        {
          "name": "stderr",
          "output_type": "stream",
          "text": [
            "\n",
            "[notice] A new release of pip is available: 24.2 -> 25.0.1\n",
            "[notice] To update, run: python.exe -m pip install --upgrade pip\n"
          ]
        },
        {
          "name": "stdout",
          "output_type": "stream",
          "text": [
            "Note: you may need to restart the kernel to use updated packages.\n"
          ]
        },
        {
          "name": "stderr",
          "output_type": "stream",
          "text": [
            "  error: subprocess-exited-with-error\n",
            "  \n",
            "  × Building wheel for dlib (pyproject.toml) did not run successfully.\n",
            "  │ exit code: 1\n",
            "  ╰─> [50 lines of output]\n",
            "      <string>:234: SyntaxWarning: invalid escape sequence '\\('\n",
            "      <string>:235: SyntaxWarning: invalid escape sequence '\\('\n",
            "      <string>:236: SyntaxWarning: invalid escape sequence '\\('\n",
            "      running bdist_wheel\n",
            "      running build\n",
            "      running build_ext\n",
            "      Traceback (most recent call last):\n",
            "        File \"<frozen runpy>\", line 198, in _run_module_as_main\n",
            "        File \"<frozen runpy>\", line 88, in _run_code\n",
            "        File \"C:\\Users\\Joshua Yap\\AppData\\Local\\Programs\\Python\\Python313\\Scripts\\cmake.exe\\__main__.py\", line 4, in <module>\n",
            "          from cmake import cmake\n",
            "      ModuleNotFoundError: No module named 'cmake'\n",
            "      \n",
            "      ================================================================================\n",
            "      ================================================================================\n",
            "      ================================================================================\n",
            "      \n",
            "                         CMake is not installed on your system!\n",
            "      \n",
            "          Or it is possible some broken copy of cmake is installed on your system.\n",
            "          It is unfortunately very common for python package managers to include\n",
            "          broken copies of cmake.  So if the error above this refers to some file\n",
            "          path to a cmake file inside a python or anaconda or miniconda path then you\n",
            "          should delete that broken copy of cmake from your computer.\n",
            "      \n",
            "          Instead, please get an official copy of cmake from one of these known good\n",
            "          sources of an official cmake:\n",
            "              - cmake.org (this is how windows users should get cmake)\n",
            "              - apt install cmake (for Ubuntu or Debian based systems)\n",
            "              - yum install cmake (for Redhat or CenOS based systems)\n",
            "      \n",
            "          On a linux machine you can run `which cmake` to see what cmake you are\n",
            "          actually using.  If it tells you it's some cmake from any kind of python\n",
            "          packager delete it and install an official cmake.\n",
            "      \n",
            "          More generally, cmake is not installed if when you open a terminal window\n",
            "          and type\n",
            "             cmake --version\n",
            "          you get an error.  So you can use that as a very basic test to see if you\n",
            "          have cmake installed.  That is, if cmake --version doesn't run from the\n",
            "          same terminal window from which you are reading this error message, then\n",
            "          you have not installed cmake.  Windows users should take note that they\n",
            "          need to tell the cmake installer to add cmake to their PATH.  Since you\n",
            "          can't run commands that are not in your PATH.  This is how the PATH works\n",
            "          on Linux as well, but failing to add cmake to the PATH is a particularly\n",
            "          common problem on windows and rarely a problem on Linux.\n",
            "      \n",
            "      ================================================================================\n",
            "      ================================================================================\n",
            "      ================================================================================\n",
            "      [end of output]\n",
            "  \n",
            "  note: This error originates from a subprocess, and is likely not a problem with pip.\n",
            "  ERROR: Failed building wheel for dlib\n",
            "\n",
            "[notice] A new release of pip is available: 24.2 -> 25.0.1\n",
            "[notice] To update, run: python.exe -m pip install --upgrade pip\n",
            "ERROR: ERROR: Failed to build installable wheels for some pyproject.toml based projects (dlib)\n"
          ]
        }
      ],
      "source": [
        "%pip install --quiet cmake\n",
        "%pip install --quiet dlib"
      ]
    },
    {
      "cell_type": "code",
      "execution_count": null,
      "metadata": {
        "id": "jRXNZVpV1RA2"
      },
      "outputs": [
        {
          "name": "stdout",
          "output_type": "stream",
          "text": [
            "Note: you may need to restart the kernel to use updated packages.\n"
          ]
        },
        {
          "name": "stderr",
          "output_type": "stream",
          "text": [
            "  error: subprocess-exited-with-error\n",
            "  \n",
            "  × Building wheel for dlib (pyproject.toml) did not run successfully.\n",
            "  │ exit code: 1\n",
            "  ╰─> [50 lines of output]\n",
            "      <string>:234: SyntaxWarning: invalid escape sequence '\\('\n",
            "      <string>:235: SyntaxWarning: invalid escape sequence '\\('\n",
            "      <string>:236: SyntaxWarning: invalid escape sequence '\\('\n",
            "      running bdist_wheel\n",
            "      running build\n",
            "      running build_ext\n",
            "      Traceback (most recent call last):\n",
            "        File \"<frozen runpy>\", line 198, in _run_module_as_main\n",
            "        File \"<frozen runpy>\", line 88, in _run_code\n",
            "        File \"C:\\Users\\Joshua Yap\\AppData\\Local\\Programs\\Python\\Python313\\Scripts\\cmake.exe\\__main__.py\", line 4, in <module>\n",
            "          from cmake import cmake\n",
            "      ModuleNotFoundError: No module named 'cmake'\n",
            "      \n",
            "      ================================================================================\n",
            "      ================================================================================\n",
            "      ================================================================================\n",
            "      \n",
            "                         CMake is not installed on your system!\n",
            "      \n",
            "          Or it is possible some broken copy of cmake is installed on your system.\n",
            "          It is unfortunately very common for python package managers to include\n",
            "          broken copies of cmake.  So if the error above this refers to some file\n",
            "          path to a cmake file inside a python or anaconda or miniconda path then you\n",
            "          should delete that broken copy of cmake from your computer.\n",
            "      \n",
            "          Instead, please get an official copy of cmake from one of these known good\n",
            "          sources of an official cmake:\n",
            "              - cmake.org (this is how windows users should get cmake)\n",
            "              - apt install cmake (for Ubuntu or Debian based systems)\n",
            "              - yum install cmake (for Redhat or CenOS based systems)\n",
            "      \n",
            "          On a linux machine you can run `which cmake` to see what cmake you are\n",
            "          actually using.  If it tells you it's some cmake from any kind of python\n",
            "          packager delete it and install an official cmake.\n",
            "      \n",
            "          More generally, cmake is not installed if when you open a terminal window\n",
            "          and type\n",
            "             cmake --version\n",
            "          you get an error.  So you can use that as a very basic test to see if you\n",
            "          have cmake installed.  That is, if cmake --version doesn't run from the\n",
            "          same terminal window from which you are reading this error message, then\n",
            "          you have not installed cmake.  Windows users should take note that they\n",
            "          need to tell the cmake installer to add cmake to their PATH.  Since you\n",
            "          can't run commands that are not in your PATH.  This is how the PATH works\n",
            "          on Linux as well, but failing to add cmake to the PATH is a particularly\n",
            "          common problem on windows and rarely a problem on Linux.\n",
            "      \n",
            "      ================================================================================\n",
            "      ================================================================================\n",
            "      ================================================================================\n",
            "      [end of output]\n",
            "  \n",
            "  note: This error originates from a subprocess, and is likely not a problem with pip.\n",
            "  ERROR: Failed building wheel for dlib\n",
            "\n",
            "[notice] A new release of pip is available: 24.2 -> 25.0.1\n",
            "[notice] To update, run: python.exe -m pip install --upgrade pip\n",
            "ERROR: ERROR: Failed to build installable wheels for some pyproject.toml based projects (dlib)\n"
          ]
        },
        {
          "name": "stdout",
          "output_type": "stream",
          "text": [
            "Note: you may need to restart the kernel to use updated packages.\n"
          ]
        },
        {
          "name": "stderr",
          "output_type": "stream",
          "text": [
            "\n",
            "[notice] A new release of pip is available: 24.2 -> 25.0.1\n",
            "[notice] To update, run: python.exe -m pip install --upgrade pip\n"
          ]
        }
      ],
      "source": [
        "%pip install --quiet face_recognition \n",
        "%pip install --quiet opencv-python"
      ]
    },
    {
      "cell_type": "code",
      "execution_count": null,
      "metadata": {
        "id": "mgh13Pe_1OCk"
      },
      "outputs": [],
      "source": [
        "import face_recognition\n",
        "import cv2\n",
        "\n",
        "# Load an image with face_recognition\n",
        "image = face_recognition.load_image_file(\"Test Image.png\") "
      ]
    },
    {
      "cell_type": "code",
      "execution_count": null,
      "metadata": {
        "id": "7Uz1gmb-7tnj"
      },
      "outputs": [],
      "source": [
        "# Find all face locations in the image\n",
        "face_locations = face_recognition.face_locations(image)\n",
        "\n",
        "# Load the image using OpenCV to display it\n",
        "image_cv = cv2.imread(\"Test Image.png\")\n",
        "\n",
        "# Loop through all detected faces and draw rectangles around them\n",
        "for face_location in face_locations:\n",
        "    top, right, bottom, left = face_location\n",
        "    cv2.rectangle(image_cv, (left, top), (right, bottom), (0, 255, 0), 2)\n",
        "\n",
        "# Display the image with rectangles around faces\n",
        "cv2.imshow(\"Face Recognition\", image_cv)\n",
        "\n",
        "# Wait for a key press and close the image window\n",
        "cv2.waitKey(0)\n",
        "cv2.destroyAllWindows()"
      ]
    }
  ],
  "metadata": {
    "colab": {
      "provenance": []
    },
    "kernelspec": {
      "display_name": "Python 3",
      "name": "python3"
    },
    "language_info": {
      "codemirror_mode": {
        "name": "ipython",
        "version": 3
      },
      "file_extension": ".py",
      "mimetype": "text/x-python",
      "name": "python",
      "nbconvert_exporter": "python",
      "pygments_lexer": "ipython3",
      "version": "3.13.0"
    }
  },
  "nbformat": 4,
  "nbformat_minor": 0
}
