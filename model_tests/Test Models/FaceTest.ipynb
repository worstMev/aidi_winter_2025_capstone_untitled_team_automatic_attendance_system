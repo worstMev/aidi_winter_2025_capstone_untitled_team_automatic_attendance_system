{
  "nbformat": 4,
  "nbformat_minor": 0,
  "metadata": {
    "colab": {
      "provenance": []
    },
    "kernelspec": {
      "name": "python3",
      "display_name": "Python 3"
    },
    "language_info": {
      "name": "python"
    }
  },
  "cells": [
    {
      "cell_type": "code",
      "source": [
        "!pip install face_recognition\n",
        "!pip install opencv-python"
      ],
      "metadata": {
        "id": "jRXNZVpV1RA2"
      },
      "execution_count": null,
      "outputs": []
    },
    {
      "cell_type": "code",
      "execution_count": null,
      "metadata": {
        "id": "mgh13Pe_1OCk"
      },
      "outputs": [],
      "source": [
        "import face_recognition\n",
        "import cv2\n",
        "\n",
        "# Load an image with face_recognition\n",
        "image = face_recognition.load_image_file(\"image.jpg\") # Replace \"image.jpg\" with the path to your own image file.\n",
        "\n",
        "# Find all face locations in the image\n",
        "face_locations = face_recognition.face_locations(image)\n",
        "\n",
        "# Load the image using OpenCV to display it\n",
        "image_cv = cv2.imread(\"image.jpg\")\n",
        "\n",
        "# Loop through all detected faces and draw rectangles around them\n",
        "for face_location in face_locations:\n",
        "    top, right, bottom, left = face_location\n",
        "    cv2.rectangle(image_cv, (left, top), (right, bottom), (0, 255, 0), 2)\n",
        "\n",
        "# Display the image with rectangles around faces\n",
        "cv2.imshow(\"Face Recognition\", image_cv)\n",
        "\n",
        "# Wait for a key press and close the image window\n",
        "cv2.waitKey(0)\n",
        "cv2.destroyAllWindows()"
      ]
    },
    {
      "cell_type": "code",
      "source": [],
      "metadata": {
        "id": "7Uz1gmb-7tnj"
      },
      "execution_count": null,
      "outputs": []
    }
  ]
}