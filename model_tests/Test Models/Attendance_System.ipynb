{
  "nbformat": 4,
  "nbformat_minor": 0,
  "metadata": {
    "colab": {
      "provenance": []
    },
    "kernelspec": {
      "name": "python3",
      "display_name": "Python 3"
    },
    "language_info": {
      "name": "python"
    }
  },
  "cells": [
    {
      "cell_type": "code",
      "execution_count": null,
      "metadata": {
        "id": "sswFKg7km2c4"
      },
      "outputs": [],
      "source": [
        "import csv\n",
        "from datetime import datetime\n",
        "\n",
        "FILENAME = \"attendance.csv\"\n",
        "\n",
        "def load_attendance():\n",
        "    try:\n",
        "        with open(FILENAME, mode='r') as file:\n",
        "            reader = csv.reader(file)\n",
        "            data = list(reader)\n",
        "        return data\n",
        "    except FileNotFoundError:\n",
        "        return [[\"Name\", \"Date\", \"Status\"]]  # Header row\n",
        "\n",
        "def save_attendance(data):\n",
        "    with open(FILENAME, mode='w', newline='') as file:\n",
        "        writer = csv.writer(file)\n",
        "        writer.writerows(data)\n",
        "\n",
        "def mark_attendance(data):\n",
        "    name = input(\"Enter student name: \").strip()\n",
        "    date = datetime.today().strftime('%Y-%m-%d')\n",
        "    status = input(\"Enter status (P=Present, A=Absent): \").strip().upper()\n",
        "\n",
        "    if status not in ['P', 'A']:\n",
        "        print(\"Invalid status. Use 'P' or 'A'.\")\n",
        "        return\n",
        "\n",
        "    data.append([name, date, status])\n",
        "    print(f\"Attendance marked for {name} on {date} as {status}.\")\n",
        "\n",
        "def view_attendance(data):\n",
        "    for row in data:\n",
        "        print(', '.join(row))"
      ]
    },
    {
      "cell_type": "code",
      "source": [
        "def main():\n",
        "    attendance_data = load_attendance()\n",
        "\n",
        "    while True:\n",
        "        print(\"\\nAttendance System\")\n",
        "        print(\"1. Mark Attendance\")\n",
        "        print(\"2. View Attendance\")\n",
        "        print(\"3. Exit\")\n",
        "        choice = input(\"Choose an option: \")\n",
        "\n",
        "        if choice == '1':\n",
        "            mark_attendance(attendance_data)\n",
        "            save_attendance(attendance_data)\n",
        "        elif choice == '2':\n",
        "            view_attendance(attendance_data)\n",
        "        elif choice == '3':\n",
        "            print(\"Exiting. Goodbye!\")\n",
        "            break\n",
        "        else:\n",
        "            print(\"Invalid choice. Please try again.\")\n",
        "\n",
        "if __name__ == \"__main__\":\n",
        "    main()"
      ],
      "metadata": {
        "colab": {
          "base_uri": "https://localhost:8080/"
        },
        "id": "Co3sOYpHm5xr",
        "outputId": "2568ac90-d158-4105-fca8-c09f6c5f376f"
      },
      "execution_count": null,
      "outputs": [
        {
          "output_type": "stream",
          "name": "stdout",
          "text": [
            "\n",
            "Attendance System\n",
            "1. Mark Attendance\n",
            "2. View Attendance\n",
            "3. Exit\n",
            "Choose an option: 3\n",
            "Exiting. Goodbye!\n"
          ]
        }
      ]
    }
  ]
}