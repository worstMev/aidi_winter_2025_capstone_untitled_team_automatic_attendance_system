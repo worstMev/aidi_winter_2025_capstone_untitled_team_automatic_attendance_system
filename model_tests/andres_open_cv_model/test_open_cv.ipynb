{
 "cells": [
  {
   "cell_type": "code",
   "execution_count": 26,
   "metadata": {},
   "outputs": [],
   "source": [
    "import cv2 ### opencv"
   ]
  },
  {
   "cell_type": "code",
   "execution_count": 27,
   "metadata": {},
   "outputs": [],
   "source": [
    "face_classifier = cv2.CascadeClassifier(\n",
    "    cv2.data.haarcascades + \"haarcascade_frontalface_default.xml\"\n",
    ")"
   ]
  },
  {
   "cell_type": "code",
   "execution_count": 19,
   "metadata": {},
   "outputs": [],
   "source": [
    "video_capture = cv2.VideoCapture(0)"
   ]
  },
  {
   "cell_type": "code",
   "execution_count": 28,
   "metadata": {},
   "outputs": [],
   "source": [
    "def detect_bounding_box(vid):\n",
    "    gray_image = cv2.cvtColor(vid, cv2.COLOR_BGR2GRAY)\n",
    "    faces = face_classifier.detectMultiScale(gray_image, 1.1, 5, minSize=(40, 40))\n",
    "    for (x, y, w, h) in faces:\n",
    "        cv2.rectangle(vid, (x, y), (x + w, y + h), (0, 255, 0), 4)\n",
    "    return faces"
   ]
  },
  {
   "cell_type": "code",
   "execution_count": 16,
   "metadata": {},
   "outputs": [],
   "source": [
    "import numpy as np\n",
    "from mss import mss\n",
    "\n",
    "def detect_bounding_box_screen(vid):\n",
    "\n",
    "    \n",
    "    with mss() as sct:\n",
    "    # Use sct.monitors[1] for the first physical monitor.\n",
    "        monitor = sct.monitors[2]\n",
    "        img = np.array(sct.grab(monitor))\n",
    "    gray_image = cv2.cvtColor(img, cv2.COLOR_BGR2GRAY)\n",
    "    faces = face_classifier.detectMultiScale(gray_image, 1.1, 5, minSize=(40, 40))\n",
    "    for (x, y, w, h) in faces:\n",
    "        cv2.rectangle(img, (x, y), (x + w, y + h), (0, 255, 0), 4)\n",
    "    return faces"
   ]
  },
  {
   "cell_type": "code",
   "execution_count": 14,
   "metadata": {},
   "outputs": [],
   "source": [
    "## capturing the screen \n",
    "\n",
    "import numpy as np\n",
    "from mss import mss\n",
    "\n",
    "with mss() as sct:\n",
    "    # Use sct.monitors[1] for the first physical monitor.\n",
    "    monitor = sct.monitors[2]\n",
    "\n",
    "    while True:\n",
    "        # Capture the monitor.\n",
    "        img = np.array(sct.grab(monitor))\n",
    "        # Convert BGRA to BGR.\n",
    "        frame = cv2.cvtColor(img, cv2.COLOR_BGRA2BGR)\n",
    "        \n",
    "        cv2.imshow(\"Monitor Capture\", frame)\n",
    "        \n",
    "        # Exit on pressing 'q'.\n",
    "        if cv2.waitKey(1) == ord('q'):\n",
    "            break\n",
    "\n",
    "cv2.destroyAllWindows()"
   ]
  },
  {
   "cell_type": "code",
   "execution_count": 21,
   "metadata": {},
   "outputs": [],
   "source": [
    "while True:\n",
    "\n",
    "    result, video_frame = video_capture.read()  # read frames from the video\n",
    "    if result is False:\n",
    "        break  # terminate the loop if the frame is not read successfully\n",
    "\n",
    "    faces = detect_bounding_box(\n",
    "        video_frame\n",
    "    )  # apply the function we created to the video frame\n",
    "\n",
    "    cv2.imshow(\n",
    "        \"My Face Detection Project\", video_frame\n",
    "    )  # display the processed frame in a window named \"My Face Detection Project\"\n",
    "\n",
    "    if cv2.waitKey(1) & 0xFF == ord(\"q\"):\n",
    "        break\n",
    "\n",
    "video_capture.release()\n",
    "cv2.destroyAllWindows()"
   ]
  },
  {
   "cell_type": "code",
   "execution_count": 36,
   "metadata": {},
   "outputs": [],
   "source": [
    "with mss() as sct:\n",
    "    # Choose the monitor you want to capture. For example, use monitor[1] for the first monitor.\n",
    "    monitor = sct.monitors[2]\n",
    "\n",
    "    while True:\n",
    "        # Grab the screen image\n",
    "        img = np.array(sct.grab(monitor))\n",
    "        # Convert the image from BGRA to BGR\n",
    "        screen_frame = cv2.cvtColor(img, cv2.COLOR_BGRA2BGR)\n",
    "\n",
    "        # Pass the screen_frame to your face detection function\n",
    "        faces = detect_bounding_box(screen_frame)\n",
    "\n",
    "        # Optionally, if detect_bounding_box doesn't draw on the frame,\n",
    "        # you could draw rectangles here based on the returned faces.\n",
    "        # For example:\n",
    "        # for (x, y, w, h) in faces:\n",
    "        #     cv2.rectangle(screen_frame, (x, y), (x+w, y+h), (0, 255, 0), 4)\n",
    "\n",
    "        cv2.imshow(\"My Face Detection Project\", screen_frame)\n",
    "\n",
    "        if cv2.waitKey(1) & 0xFF == ord(\"q\"):\n",
    "            break\n",
    "\n",
    "cv2.destroyAllWindows()"
   ]
  },
  {
   "cell_type": "code",
   "execution_count": null,
   "metadata": {},
   "outputs": [],
   "source": []
  }
 ],
 "metadata": {
  "kernelspec": {
   "display_name": "Python 3",
   "language": "python",
   "name": "python3"
  },
  "language_info": {
   "codemirror_mode": {
    "name": "ipython",
    "version": 3
   },
   "file_extension": ".py",
   "mimetype": "text/x-python",
   "name": "python",
   "nbconvert_exporter": "python",
   "pygments_lexer": "ipython3",
   "version": "3.11.5"
  }
 },
 "nbformat": 4,
 "nbformat_minor": 2
}
